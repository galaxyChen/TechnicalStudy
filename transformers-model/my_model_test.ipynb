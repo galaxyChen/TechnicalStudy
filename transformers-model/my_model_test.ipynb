{
 "metadata": {
  "language_info": {
   "codemirror_mode": {
    "name": "ipython",
    "version": 3
   },
   "file_extension": ".py",
   "mimetype": "text/x-python",
   "name": "python",
   "nbconvert_exporter": "python",
   "pygments_lexer": "ipython3",
   "version": "3.8.5-final"
  },
  "orig_nbformat": 2,
  "kernelspec": {
   "name": "python3",
   "display_name": "Python 3.8.5 64-bit",
   "metadata": {
    "interpreter": {
     "hash": "80cd643f35e6cce78383c9d842eeff506686b91089149ece27ec8006e7a105e0"
    }
   }
  }
 },
 "nbformat": 4,
 "nbformat_minor": 2,
 "cells": [
  {
   "cell_type": "code",
   "execution_count": 2,
   "metadata": {},
   "outputs": [],
   "source": [
    "from transformers import My_Model_1, My_Config\n",
    "import torch"
   ]
  },
  {
   "cell_type": "code",
   "execution_count": 2,
   "metadata": {},
   "outputs": [],
   "source": [
    "model = My_Model_1(My_Config())"
   ]
  },
  {
   "cell_type": "code",
   "execution_count": 3,
   "metadata": {},
   "outputs": [
    {
     "output_type": "execute_result",
     "data": {
      "text/plain": [
       "tensor([[ 0.1766,  0.0954, -0.6822, -0.1951,  0.0998]],\n",
       "       grad_fn=<AddmmBackward>)"
      ]
     },
     "metadata": {},
     "execution_count": 3
    }
   ],
   "source": [
    "input_data = torch.randn(1, 10)\n",
    "model(input_data)"
   ]
  },
  {
   "cell_type": "code",
   "execution_count": 4,
   "metadata": {},
   "outputs": [],
   "source": [
    "model.save_pretrained(r\"C:\\Users\\james\\Desktop\\datasets和model讲解\\transformers\\src\\transformers\\models\\my_model\\checkpoint_best.pt\")"
   ]
  },
  {
   "cell_type": "code",
   "execution_count": 7,
   "metadata": {},
   "outputs": [
    {
     "output_type": "stream",
     "name": "stdout",
     "text": [
      "pretrained_model_name_or_path C:\\Users\\james\\Desktop\\datasets和model讲解\\transformers\\src\\transformers\\models\\my_model\\checkpoint_best.pt\\config.json\n"
     ]
    }
   ],
   "source": [
    "config_pretrained = My_Config.from_pretrained(r\"C:\\Users\\james\\Desktop\\datasets和model讲解\\transformers\\src\\transformers\\models\\my_model\\checkpoint_best.pt\\config.json\")"
   ]
  },
  {
   "cell_type": "code",
   "execution_count": 8,
   "metadata": {},
   "outputs": [
    {
     "output_type": "execute_result",
     "data": {
      "text/plain": [
       "My_Model_1(\n",
       "  (hidden): Linear(in_features=10, out_features=20, bias=True)\n",
       "  (relu): ReLU()\n",
       "  (output): Linear(in_features=20, out_features=5, bias=True)\n",
       ")"
      ]
     },
     "metadata": {},
     "execution_count": 8
    }
   ],
   "source": [
    "model.from_pretrained(r\"C:\\Users\\james\\Desktop\\datasets和model讲解\\transformers\\src\\transformers\\models\\my_model\\checkpoint_best.pt\\pytorch_model.bin\",config = config_pretrained)"
   ]
  }
 ]
}